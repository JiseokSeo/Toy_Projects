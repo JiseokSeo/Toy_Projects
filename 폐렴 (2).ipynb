{
  "nbformat": 4,
  "nbformat_minor": 0,
  "metadata": {
    "colab": {
      "provenance": []
    },
    "kernelspec": {
      "name": "python3",
      "display_name": "Python 3"
    },
    "language_info": {
      "name": "python"
    },
    "accelerator": "GPU",
    "gpuClass": "standard"
  },
  "cells": [
    {
      "cell_type": "code",
      "source": [
        "from google.colab import drive\n",
        "drive.mount('/content/drive')"
      ],
      "metadata": {
        "colab": {
          "base_uri": "https://localhost:8080/"
        },
        "id": "RSSVFDZXHTec",
        "outputId": "0d8f219d-916e-422d-e417-095c330824c4"
      },
      "execution_count": 1,
      "outputs": [
        {
          "output_type": "stream",
          "name": "stdout",
          "text": [
            "Drive already mounted at /content/drive; to attempt to forcibly remount, call drive.mount(\"/content/drive\", force_remount=True).\n"
          ]
        }
      ]
    },
    {
      "cell_type": "code",
      "source": [
        "!pip install -qU \"python-gdcm\" pydicom pylibjpeg \"opencv-python-headless\""
      ],
      "metadata": {
        "id": "l_Pu9ZD_93d-",
        "colab": {
          "base_uri": "https://localhost:8080/"
        },
        "outputId": "b2a06189-6140-469b-8fdb-6431de0b9aa3"
      },
      "execution_count": 2,
      "outputs": [
        {
          "output_type": "stream",
          "name": "stdout",
          "text": [
            "\u001b[2K     \u001b[90m━━━━━━━━━━━━━━━━━━━━━━━━━━━━━━━━━━━━━━━━\u001b[0m \u001b[32m13.0/13.0 MB\u001b[0m \u001b[31m84.1 MB/s\u001b[0m eta \u001b[36m0:00:00\u001b[0m\n",
            "\u001b[2K     \u001b[90m━━━━━━━━━━━━━━━━━━━━━━━━━━━━━━━━━━━━━━━━\u001b[0m \u001b[32m2.0/2.0 MB\u001b[0m \u001b[31m72.7 MB/s\u001b[0m eta \u001b[36m0:00:00\u001b[0m\n",
            "\u001b[?25h"
          ]
        }
      ]
    },
    {
      "cell_type": "code",
      "execution_count": 3,
      "metadata": {
        "colab": {
          "base_uri": "https://localhost:8080/",
          "height": 76
        },
        "id": "PONTCb6Ng9Yz",
        "outputId": "1693f10a-8f4d-4d3f-da6f-806e966dc1c2"
      },
      "outputs": [
        {
          "output_type": "display_data",
          "data": {
            "text/plain": [
              "<IPython.core.display.HTML object>"
            ],
            "text/html": [
              "\n",
              "     <input type=\"file\" id=\"files-959f21b2-f779-46d2-8e2d-fe366dd81f3f\" name=\"files[]\" multiple disabled\n",
              "        style=\"border:none\" />\n",
              "     <output id=\"result-959f21b2-f779-46d2-8e2d-fe366dd81f3f\">\n",
              "      Upload widget is only available when the cell has been executed in the\n",
              "      current browser session. Please rerun this cell to enable.\n",
              "      </output>\n",
              "      <script>// Copyright 2017 Google LLC\n",
              "//\n",
              "// Licensed under the Apache License, Version 2.0 (the \"License\");\n",
              "// you may not use this file except in compliance with the License.\n",
              "// You may obtain a copy of the License at\n",
              "//\n",
              "//      http://www.apache.org/licenses/LICENSE-2.0\n",
              "//\n",
              "// Unless required by applicable law or agreed to in writing, software\n",
              "// distributed under the License is distributed on an \"AS IS\" BASIS,\n",
              "// WITHOUT WARRANTIES OR CONDITIONS OF ANY KIND, either express or implied.\n",
              "// See the License for the specific language governing permissions and\n",
              "// limitations under the License.\n",
              "\n",
              "/**\n",
              " * @fileoverview Helpers for google.colab Python module.\n",
              " */\n",
              "(function(scope) {\n",
              "function span(text, styleAttributes = {}) {\n",
              "  const element = document.createElement('span');\n",
              "  element.textContent = text;\n",
              "  for (const key of Object.keys(styleAttributes)) {\n",
              "    element.style[key] = styleAttributes[key];\n",
              "  }\n",
              "  return element;\n",
              "}\n",
              "\n",
              "// Max number of bytes which will be uploaded at a time.\n",
              "const MAX_PAYLOAD_SIZE = 100 * 1024;\n",
              "\n",
              "function _uploadFiles(inputId, outputId) {\n",
              "  const steps = uploadFilesStep(inputId, outputId);\n",
              "  const outputElement = document.getElementById(outputId);\n",
              "  // Cache steps on the outputElement to make it available for the next call\n",
              "  // to uploadFilesContinue from Python.\n",
              "  outputElement.steps = steps;\n",
              "\n",
              "  return _uploadFilesContinue(outputId);\n",
              "}\n",
              "\n",
              "// This is roughly an async generator (not supported in the browser yet),\n",
              "// where there are multiple asynchronous steps and the Python side is going\n",
              "// to poll for completion of each step.\n",
              "// This uses a Promise to block the python side on completion of each step,\n",
              "// then passes the result of the previous step as the input to the next step.\n",
              "function _uploadFilesContinue(outputId) {\n",
              "  const outputElement = document.getElementById(outputId);\n",
              "  const steps = outputElement.steps;\n",
              "\n",
              "  const next = steps.next(outputElement.lastPromiseValue);\n",
              "  return Promise.resolve(next.value.promise).then((value) => {\n",
              "    // Cache the last promise value to make it available to the next\n",
              "    // step of the generator.\n",
              "    outputElement.lastPromiseValue = value;\n",
              "    return next.value.response;\n",
              "  });\n",
              "}\n",
              "\n",
              "/**\n",
              " * Generator function which is called between each async step of the upload\n",
              " * process.\n",
              " * @param {string} inputId Element ID of the input file picker element.\n",
              " * @param {string} outputId Element ID of the output display.\n",
              " * @return {!Iterable<!Object>} Iterable of next steps.\n",
              " */\n",
              "function* uploadFilesStep(inputId, outputId) {\n",
              "  const inputElement = document.getElementById(inputId);\n",
              "  inputElement.disabled = false;\n",
              "\n",
              "  const outputElement = document.getElementById(outputId);\n",
              "  outputElement.innerHTML = '';\n",
              "\n",
              "  const pickedPromise = new Promise((resolve) => {\n",
              "    inputElement.addEventListener('change', (e) => {\n",
              "      resolve(e.target.files);\n",
              "    });\n",
              "  });\n",
              "\n",
              "  const cancel = document.createElement('button');\n",
              "  inputElement.parentElement.appendChild(cancel);\n",
              "  cancel.textContent = 'Cancel upload';\n",
              "  const cancelPromise = new Promise((resolve) => {\n",
              "    cancel.onclick = () => {\n",
              "      resolve(null);\n",
              "    };\n",
              "  });\n",
              "\n",
              "  // Wait for the user to pick the files.\n",
              "  const files = yield {\n",
              "    promise: Promise.race([pickedPromise, cancelPromise]),\n",
              "    response: {\n",
              "      action: 'starting',\n",
              "    }\n",
              "  };\n",
              "\n",
              "  cancel.remove();\n",
              "\n",
              "  // Disable the input element since further picks are not allowed.\n",
              "  inputElement.disabled = true;\n",
              "\n",
              "  if (!files) {\n",
              "    return {\n",
              "      response: {\n",
              "        action: 'complete',\n",
              "      }\n",
              "    };\n",
              "  }\n",
              "\n",
              "  for (const file of files) {\n",
              "    const li = document.createElement('li');\n",
              "    li.append(span(file.name, {fontWeight: 'bold'}));\n",
              "    li.append(span(\n",
              "        `(${file.type || 'n/a'}) - ${file.size} bytes, ` +\n",
              "        `last modified: ${\n",
              "            file.lastModifiedDate ? file.lastModifiedDate.toLocaleDateString() :\n",
              "                                    'n/a'} - `));\n",
              "    const percent = span('0% done');\n",
              "    li.appendChild(percent);\n",
              "\n",
              "    outputElement.appendChild(li);\n",
              "\n",
              "    const fileDataPromise = new Promise((resolve) => {\n",
              "      const reader = new FileReader();\n",
              "      reader.onload = (e) => {\n",
              "        resolve(e.target.result);\n",
              "      };\n",
              "      reader.readAsArrayBuffer(file);\n",
              "    });\n",
              "    // Wait for the data to be ready.\n",
              "    let fileData = yield {\n",
              "      promise: fileDataPromise,\n",
              "      response: {\n",
              "        action: 'continue',\n",
              "      }\n",
              "    };\n",
              "\n",
              "    // Use a chunked sending to avoid message size limits. See b/62115660.\n",
              "    let position = 0;\n",
              "    do {\n",
              "      const length = Math.min(fileData.byteLength - position, MAX_PAYLOAD_SIZE);\n",
              "      const chunk = new Uint8Array(fileData, position, length);\n",
              "      position += length;\n",
              "\n",
              "      const base64 = btoa(String.fromCharCode.apply(null, chunk));\n",
              "      yield {\n",
              "        response: {\n",
              "          action: 'append',\n",
              "          file: file.name,\n",
              "          data: base64,\n",
              "        },\n",
              "      };\n",
              "\n",
              "      let percentDone = fileData.byteLength === 0 ?\n",
              "          100 :\n",
              "          Math.round((position / fileData.byteLength) * 100);\n",
              "      percent.textContent = `${percentDone}% done`;\n",
              "\n",
              "    } while (position < fileData.byteLength);\n",
              "  }\n",
              "\n",
              "  // All done.\n",
              "  yield {\n",
              "    response: {\n",
              "      action: 'complete',\n",
              "    }\n",
              "  };\n",
              "}\n",
              "\n",
              "scope.google = scope.google || {};\n",
              "scope.google.colab = scope.google.colab || {};\n",
              "scope.google.colab._files = {\n",
              "  _uploadFiles,\n",
              "  _uploadFilesContinue,\n",
              "};\n",
              "})(self);\n",
              "</script> "
            ]
          },
          "metadata": {}
        },
        {
          "output_type": "stream",
          "name": "stdout",
          "text": [
            "Saving kaggle.json to kaggle.json\n"
          ]
        }
      ],
      "source": [
        "# kaggle API로 데이터를 다운로드합니다.\n",
        "# kaggle token을 업로드해야합니다 -> 발급받아야함\n",
        "\n",
        "from google.colab import files\n",
        "kaggle_token = files.upload()\n",
        "\n",
        "!pip install -q kaggle\n",
        "!mkdir -p ~/.kaggle\n",
        "!cp kaggle.json ~/.kaggle\n",
        "!chmod 600 /root/.kaggle/kaggle.json"
      ]
    },
    {
      "cell_type": "code",
      "source": [
        "# data 디렉토리 생성\n",
        "!mkdir /content/data\n",
        "\n",
        "# 캐글 데이터 다운로드\n",
        "!kaggle competitions download -c rsna-pneumonia-detection-challenge\n",
        "\n",
        "# 다운로드 받은 케글 데이터를 data 디렉토리로 이동\n",
        "!mv rsna-pneumonia-detection-challenge.zip /content/data\n",
        "\n",
        "# 캐글 데이터를 data 디렉토리에 압축풀기\n",
        "!unzip -q /content/data/rsna-pneumonia-detection-challenge.zip -d /content/data"
      ],
      "metadata": {
        "colab": {
          "base_uri": "https://localhost:8080/"
        },
        "id": "ezP-dOsahaBK",
        "outputId": "e88c611d-d5db-4224-8b48-b71d540bb8f6"
      },
      "execution_count": 4,
      "outputs": [
        {
          "output_type": "stream",
          "name": "stdout",
          "text": [
            "Downloading rsna-pneumonia-detection-challenge.zip to /content\n",
            "100% 3.66G/3.66G [01:49<00:00, 37.0MB/s]\n",
            "100% 3.66G/3.66G [01:49<00:00, 36.0MB/s]\n"
          ]
        }
      ]
    },
    {
      "cell_type": "code",
      "source": [
        "# YOLOv5 깃클론\n",
        "\n",
        "!git clone https://github.com/ultralytics/yolov5  # clone\n",
        "%cd yolov5\n",
        "%pip install -qr requirements.txt  # install\n",
        "\n",
        "import torch\n",
        "import utils\n",
        "display = utils.notebook_init()  # checks"
      ],
      "metadata": {
        "colab": {
          "base_uri": "https://localhost:8080/"
        },
        "id": "eNATtArZzann",
        "outputId": "7381095e-d8ec-4377-ce17-476b92658e5c"
      },
      "execution_count": 5,
      "outputs": [
        {
          "output_type": "stream",
          "name": "stderr",
          "text": [
            "YOLOv5 🚀 v7.0-129-gb54fd0a Python-3.9.16 torch-1.13.1+cu116 CUDA:0 (Tesla T4, 15102MiB)\n"
          ]
        },
        {
          "output_type": "stream",
          "name": "stdout",
          "text": [
            "Setup complete ✅ (2 CPUs, 12.7 GB RAM, 33.1/166.8 GB disk)\n"
          ]
        }
      ]
    },
    {
      "cell_type": "code",
      "source": [
        "import pandas as pd\n",
        "import numpy as np\n",
        "import matplotlib.pyplot as plt\n",
        "import cv2\n",
        "import pydicom\n",
        "import os\n",
        "import glob\n",
        "from tqdm import tqdm\n",
        "import zipfile\n",
        "from sklearn.model_selection import train_test_split\n",
        "import yaml\n",
        "import torch"
      ],
      "metadata": {
        "id": "Ou00kvsii_lA"
      },
      "execution_count": 6,
      "outputs": []
    },
    {
      "cell_type": "code",
      "source": [
        "train = pd.read_csv('/content/data/stage_2_train_labels.csv')\n",
        "train"
      ],
      "metadata": {
        "colab": {
          "base_uri": "https://localhost:8080/",
          "height": 424
        },
        "id": "i6IyhnTv6BHP",
        "outputId": "158507ee-001c-4ca0-b88b-b6a31d03ad0f"
      },
      "execution_count": 7,
      "outputs": [
        {
          "output_type": "execute_result",
          "data": {
            "text/plain": [
              "                                  patientId      x      y  width  height  \\\n",
              "0      0004cfab-14fd-4e49-80ba-63a80b6bddd6    NaN    NaN    NaN     NaN   \n",
              "1      00313ee0-9eaa-42f4-b0ab-c148ed3241cd    NaN    NaN    NaN     NaN   \n",
              "2      00322d4d-1c29-4943-afc9-b6754be640eb    NaN    NaN    NaN     NaN   \n",
              "3      003d8fa0-6bf1-40ed-b54c-ac657f8495c5    NaN    NaN    NaN     NaN   \n",
              "4      00436515-870c-4b36-a041-de91049b9ab4  264.0  152.0  213.0   379.0   \n",
              "...                                     ...    ...    ...    ...     ...   \n",
              "30222  c1ec14ff-f6d7-4b38-b0cb-fe07041cbdc8  185.0  298.0  228.0   379.0   \n",
              "30223  c1edf42b-5958-47ff-a1e7-4f23d99583ba    NaN    NaN    NaN     NaN   \n",
              "30224  c1f6b555-2eb1-4231-98f6-50a963976431    NaN    NaN    NaN     NaN   \n",
              "30225  c1f7889a-9ea9-4acb-b64c-b737c929599a  570.0  393.0  261.0   345.0   \n",
              "30226  c1f7889a-9ea9-4acb-b64c-b737c929599a  233.0  424.0  201.0   356.0   \n",
              "\n",
              "       Target  \n",
              "0           0  \n",
              "1           0  \n",
              "2           0  \n",
              "3           0  \n",
              "4           1  \n",
              "...       ...  \n",
              "30222       1  \n",
              "30223       0  \n",
              "30224       0  \n",
              "30225       1  \n",
              "30226       1  \n",
              "\n",
              "[30227 rows x 6 columns]"
            ],
            "text/html": [
              "\n",
              "  <div id=\"df-6c2a41b9-d101-4985-bb45-2fa75ef1e0eb\">\n",
              "    <div class=\"colab-df-container\">\n",
              "      <div>\n",
              "<style scoped>\n",
              "    .dataframe tbody tr th:only-of-type {\n",
              "        vertical-align: middle;\n",
              "    }\n",
              "\n",
              "    .dataframe tbody tr th {\n",
              "        vertical-align: top;\n",
              "    }\n",
              "\n",
              "    .dataframe thead th {\n",
              "        text-align: right;\n",
              "    }\n",
              "</style>\n",
              "<table border=\"1\" class=\"dataframe\">\n",
              "  <thead>\n",
              "    <tr style=\"text-align: right;\">\n",
              "      <th></th>\n",
              "      <th>patientId</th>\n",
              "      <th>x</th>\n",
              "      <th>y</th>\n",
              "      <th>width</th>\n",
              "      <th>height</th>\n",
              "      <th>Target</th>\n",
              "    </tr>\n",
              "  </thead>\n",
              "  <tbody>\n",
              "    <tr>\n",
              "      <th>0</th>\n",
              "      <td>0004cfab-14fd-4e49-80ba-63a80b6bddd6</td>\n",
              "      <td>NaN</td>\n",
              "      <td>NaN</td>\n",
              "      <td>NaN</td>\n",
              "      <td>NaN</td>\n",
              "      <td>0</td>\n",
              "    </tr>\n",
              "    <tr>\n",
              "      <th>1</th>\n",
              "      <td>00313ee0-9eaa-42f4-b0ab-c148ed3241cd</td>\n",
              "      <td>NaN</td>\n",
              "      <td>NaN</td>\n",
              "      <td>NaN</td>\n",
              "      <td>NaN</td>\n",
              "      <td>0</td>\n",
              "    </tr>\n",
              "    <tr>\n",
              "      <th>2</th>\n",
              "      <td>00322d4d-1c29-4943-afc9-b6754be640eb</td>\n",
              "      <td>NaN</td>\n",
              "      <td>NaN</td>\n",
              "      <td>NaN</td>\n",
              "      <td>NaN</td>\n",
              "      <td>0</td>\n",
              "    </tr>\n",
              "    <tr>\n",
              "      <th>3</th>\n",
              "      <td>003d8fa0-6bf1-40ed-b54c-ac657f8495c5</td>\n",
              "      <td>NaN</td>\n",
              "      <td>NaN</td>\n",
              "      <td>NaN</td>\n",
              "      <td>NaN</td>\n",
              "      <td>0</td>\n",
              "    </tr>\n",
              "    <tr>\n",
              "      <th>4</th>\n",
              "      <td>00436515-870c-4b36-a041-de91049b9ab4</td>\n",
              "      <td>264.0</td>\n",
              "      <td>152.0</td>\n",
              "      <td>213.0</td>\n",
              "      <td>379.0</td>\n",
              "      <td>1</td>\n",
              "    </tr>\n",
              "    <tr>\n",
              "      <th>...</th>\n",
              "      <td>...</td>\n",
              "      <td>...</td>\n",
              "      <td>...</td>\n",
              "      <td>...</td>\n",
              "      <td>...</td>\n",
              "      <td>...</td>\n",
              "    </tr>\n",
              "    <tr>\n",
              "      <th>30222</th>\n",
              "      <td>c1ec14ff-f6d7-4b38-b0cb-fe07041cbdc8</td>\n",
              "      <td>185.0</td>\n",
              "      <td>298.0</td>\n",
              "      <td>228.0</td>\n",
              "      <td>379.0</td>\n",
              "      <td>1</td>\n",
              "    </tr>\n",
              "    <tr>\n",
              "      <th>30223</th>\n",
              "      <td>c1edf42b-5958-47ff-a1e7-4f23d99583ba</td>\n",
              "      <td>NaN</td>\n",
              "      <td>NaN</td>\n",
              "      <td>NaN</td>\n",
              "      <td>NaN</td>\n",
              "      <td>0</td>\n",
              "    </tr>\n",
              "    <tr>\n",
              "      <th>30224</th>\n",
              "      <td>c1f6b555-2eb1-4231-98f6-50a963976431</td>\n",
              "      <td>NaN</td>\n",
              "      <td>NaN</td>\n",
              "      <td>NaN</td>\n",
              "      <td>NaN</td>\n",
              "      <td>0</td>\n",
              "    </tr>\n",
              "    <tr>\n",
              "      <th>30225</th>\n",
              "      <td>c1f7889a-9ea9-4acb-b64c-b737c929599a</td>\n",
              "      <td>570.0</td>\n",
              "      <td>393.0</td>\n",
              "      <td>261.0</td>\n",
              "      <td>345.0</td>\n",
              "      <td>1</td>\n",
              "    </tr>\n",
              "    <tr>\n",
              "      <th>30226</th>\n",
              "      <td>c1f7889a-9ea9-4acb-b64c-b737c929599a</td>\n",
              "      <td>233.0</td>\n",
              "      <td>424.0</td>\n",
              "      <td>201.0</td>\n",
              "      <td>356.0</td>\n",
              "      <td>1</td>\n",
              "    </tr>\n",
              "  </tbody>\n",
              "</table>\n",
              "<p>30227 rows × 6 columns</p>\n",
              "</div>\n",
              "      <button class=\"colab-df-convert\" onclick=\"convertToInteractive('df-6c2a41b9-d101-4985-bb45-2fa75ef1e0eb')\"\n",
              "              title=\"Convert this dataframe to an interactive table.\"\n",
              "              style=\"display:none;\">\n",
              "        \n",
              "  <svg xmlns=\"http://www.w3.org/2000/svg\" height=\"24px\"viewBox=\"0 0 24 24\"\n",
              "       width=\"24px\">\n",
              "    <path d=\"M0 0h24v24H0V0z\" fill=\"none\"/>\n",
              "    <path d=\"M18.56 5.44l.94 2.06.94-2.06 2.06-.94-2.06-.94-.94-2.06-.94 2.06-2.06.94zm-11 1L8.5 8.5l.94-2.06 2.06-.94-2.06-.94L8.5 2.5l-.94 2.06-2.06.94zm10 10l.94 2.06.94-2.06 2.06-.94-2.06-.94-.94-2.06-.94 2.06-2.06.94z\"/><path d=\"M17.41 7.96l-1.37-1.37c-.4-.4-.92-.59-1.43-.59-.52 0-1.04.2-1.43.59L10.3 9.45l-7.72 7.72c-.78.78-.78 2.05 0 2.83L4 21.41c.39.39.9.59 1.41.59.51 0 1.02-.2 1.41-.59l7.78-7.78 2.81-2.81c.8-.78.8-2.07 0-2.86zM5.41 20L4 18.59l7.72-7.72 1.47 1.35L5.41 20z\"/>\n",
              "  </svg>\n",
              "      </button>\n",
              "      \n",
              "  <style>\n",
              "    .colab-df-container {\n",
              "      display:flex;\n",
              "      flex-wrap:wrap;\n",
              "      gap: 12px;\n",
              "    }\n",
              "\n",
              "    .colab-df-convert {\n",
              "      background-color: #E8F0FE;\n",
              "      border: none;\n",
              "      border-radius: 50%;\n",
              "      cursor: pointer;\n",
              "      display: none;\n",
              "      fill: #1967D2;\n",
              "      height: 32px;\n",
              "      padding: 0 0 0 0;\n",
              "      width: 32px;\n",
              "    }\n",
              "\n",
              "    .colab-df-convert:hover {\n",
              "      background-color: #E2EBFA;\n",
              "      box-shadow: 0px 1px 2px rgba(60, 64, 67, 0.3), 0px 1px 3px 1px rgba(60, 64, 67, 0.15);\n",
              "      fill: #174EA6;\n",
              "    }\n",
              "\n",
              "    [theme=dark] .colab-df-convert {\n",
              "      background-color: #3B4455;\n",
              "      fill: #D2E3FC;\n",
              "    }\n",
              "\n",
              "    [theme=dark] .colab-df-convert:hover {\n",
              "      background-color: #434B5C;\n",
              "      box-shadow: 0px 1px 3px 1px rgba(0, 0, 0, 0.15);\n",
              "      filter: drop-shadow(0px 1px 2px rgba(0, 0, 0, 0.3));\n",
              "      fill: #FFFFFF;\n",
              "    }\n",
              "  </style>\n",
              "\n",
              "      <script>\n",
              "        const buttonEl =\n",
              "          document.querySelector('#df-6c2a41b9-d101-4985-bb45-2fa75ef1e0eb button.colab-df-convert');\n",
              "        buttonEl.style.display =\n",
              "          google.colab.kernel.accessAllowed ? 'block' : 'none';\n",
              "\n",
              "        async function convertToInteractive(key) {\n",
              "          const element = document.querySelector('#df-6c2a41b9-d101-4985-bb45-2fa75ef1e0eb');\n",
              "          const dataTable =\n",
              "            await google.colab.kernel.invokeFunction('convertToInteractive',\n",
              "                                                     [key], {});\n",
              "          if (!dataTable) return;\n",
              "\n",
              "          const docLinkHtml = 'Like what you see? Visit the ' +\n",
              "            '<a target=\"_blank\" href=https://colab.research.google.com/notebooks/data_table.ipynb>data table notebook</a>'\n",
              "            + ' to learn more about interactive tables.';\n",
              "          element.innerHTML = '';\n",
              "          dataTable['output_type'] = 'display_data';\n",
              "          await google.colab.output.renderOutput(dataTable, element);\n",
              "          const docLink = document.createElement('div');\n",
              "          docLink.innerHTML = docLinkHtml;\n",
              "          element.appendChild(docLink);\n",
              "        }\n",
              "      </script>\n",
              "    </div>\n",
              "  </div>\n",
              "  "
            ]
          },
          "metadata": {},
          "execution_count": 7
        }
      ]
    },
    {
      "cell_type": "code",
      "source": [
        "# train csv에 각 이미지 경로를 추가함\n",
        "image_root = '/content/data/stage_2_train_images'\n",
        "paths = []\n",
        "for k in tqdm(range(len(train))):\n",
        "  row = train.iloc[k, :]\n",
        "  path = os.path.join(image_root, row['patientId']) + '.dcm'\n",
        "  paths.append(path)\n",
        "\n",
        "train['path'] = paths"
      ],
      "metadata": {
        "colab": {
          "base_uri": "https://localhost:8080/"
        },
        "id": "YuYD-Ajf6UKW",
        "outputId": "e6c190d5-f774-46a5-b526-3234008a0df6"
      },
      "execution_count": 8,
      "outputs": [
        {
          "output_type": "stream",
          "name": "stderr",
          "text": [
            "100%|██████████| 30227/30227 [00:08<00:00, 3679.07it/s]\n"
          ]
        }
      ]
    },
    {
      "cell_type": "code",
      "source": [
        "train['patientId'].duplicated().sum(), len(train)"
      ],
      "metadata": {
        "colab": {
          "base_uri": "https://localhost:8080/"
        },
        "id": "ogXpX0tM6m1m",
        "outputId": "55dfc0dd-0aa7-4922-85b9-b88a80588d8e"
      },
      "execution_count": 9,
      "outputs": [
        {
          "output_type": "execute_result",
          "data": {
            "text/plain": [
              "(3543, 30227)"
            ]
          },
          "metadata": {},
          "execution_count": 9
        }
      ]
    },
    {
      "cell_type": "code",
      "source": [
        "# 데이터프레임을 넣으면 YOLO 형태의 txt가 생성되는 함수\n",
        "\n",
        "def get_YOLO_txt(df):\n",
        "  df = df.sort_values(by='patientId')\n",
        "\n",
        "  for k in tqdm(range(len(df))):\n",
        "    row = df.iloc[k, :]\n",
        "\n",
        "    if row['Target'] == 0:\n",
        "      with open(os.path.join('/content/yolov5/data/labels', row['patientId'] + '.txt'), 'a') as f:\n",
        "        f.write('')\n",
        "\n",
        "    else:\n",
        "      x_min, y_min, w, h = row['x'], row['y'], row['width'], row['height']\n",
        "      dw, dh = pydicom.dcmread(row['path']).pixel_array.astype(np.float32).shape\n",
        "      dw, dh = 1/dw, 1/dh\n",
        "\n",
        "      x_center = (x_min + w/2) * dw\n",
        "      y_center = (y_min + h/2) * dh\n",
        "      w = w * dw\n",
        "      h = h * dh\n",
        "\n",
        "      line = '0' + ' ' + ' '.join(map(str, [x_center, y_center, w, h]))\n",
        "\n",
        "      with open(os.path.join('/content/yolov5/data/labels', row['patientId'] + '.txt'), 'a') as f:\n",
        "        f.write(line + '\\n')"
      ],
      "metadata": {
        "id": "DSh6OweP7U_-"
      },
      "execution_count": 10,
      "outputs": []
    },
    {
      "cell_type": "code",
      "source": [
        "# YOLO 디렉토리의 labels 채우기\n",
        "\n",
        "!mkdir /content/yolov5/data/labels\n",
        "get_YOLO_txt(train)"
      ],
      "metadata": {
        "colab": {
          "base_uri": "https://localhost:8080/"
        },
        "id": "fnUIfgF1CUKe",
        "outputId": "7b743f56-dc60-402f-9038-ea3630262ac9"
      },
      "execution_count": 11,
      "outputs": [
        {
          "output_type": "stream",
          "name": "stderr",
          "text": [
            "100%|██████████| 30227/30227 [02:54<00:00, 173.37it/s]\n"
          ]
        }
      ]
    },
    {
      "cell_type": "code",
      "source": [
        "# 경로를 입력하면 dicom을 png로 바꾸는 함수\n",
        "def dcm_to_png(dcm_path, destination):\n",
        "    \"\"\"\n",
        "    Convert DICOM (.dcm) files to PNG (.png) files and save them in the specified destination folder.\n",
        "    \n",
        "    Parameters:\n",
        "    dcm_path (list): List of file paths for the input DICOM files\n",
        "    destination (str): Path to the output directory where the PNG files will be saved\n",
        "    \n",
        "    Returns:\n",
        "    None\n",
        "    \"\"\"\n",
        "    # Make sure destination folder exists\n",
        "    if not os.path.exists(destination):\n",
        "        os.makedirs(destination)\n",
        "        \n",
        "    # Iterate over DICOM files and convert to PNG\n",
        "    for path in tqdm(dcm_path):\n",
        "        # Load DICOM file\n",
        "        dcm = pydicom.dcmread(path)\n",
        "        \n",
        "        # Convert pixel data to uint8 and normalize\n",
        "        img = (dcm.pixel_array / np.max(dcm.pixel_array) * 255).astype(np.uint8)\n",
        "        \n",
        "        # Save as PNG file\n",
        "        filename = os.path.basename(path).replace('.dcm', '.png')\n",
        "        filepath = os.path.join(destination, filename)\n",
        "        cv2.imwrite(filepath, img)"
      ],
      "metadata": {
        "id": "idvOaBYbEVQj"
      },
      "execution_count": null,
      "outputs": []
    },
    {
      "cell_type": "code",
      "source": [
        "# dcm_paths = glob.glob('/content/data/stage_2_train_images/*.dcm')\n",
        "# destination_path = '/content/yolov5/data/images'\n",
        "# dcm_to_png(dcm_paths, destination_path)"
      ],
      "metadata": {
        "colab": {
          "base_uri": "https://localhost:8080/"
        },
        "id": "KtyqOeIYCma1",
        "outputId": "a6e69bd2-5f65-4207-e261-40c31e8b1bee"
      },
      "execution_count": null,
      "outputs": [
        {
          "output_type": "stream",
          "name": "stderr",
          "text": [
            "100%|██████████| 26684/26684 [19:24<00:00, 22.91it/s]\n"
          ]
        }
      ]
    },
    {
      "cell_type": "code",
      "source": [
        "!unzip -q /content/drive/MyDrive/P_images.zip -d /content/yolov5/data/images"
      ],
      "metadata": {
        "id": "C5-CbV7bIX85"
      },
      "execution_count": 12,
      "outputs": []
    },
    {
      "cell_type": "code",
      "source": [
        "# png 변환이 오래걸려서, 구글드라이브에 압축해서 저장해놓으려고함\n",
        "\n",
        "def compress_files(input_directory, output_zipfile):\n",
        "    # input_directory 내의 모든 파일 목록 가져오기\n",
        "    files = [f for f in os.listdir(input_directory) if os.path.isfile(os.path.join(input_directory, f))]\n",
        "    num_files = len(files)\n",
        "\n",
        "    # zip 파일 열기\n",
        "    with zipfile.ZipFile(output_zipfile, 'w', compression=zipfile.ZIP_DEFLATED) as zipf:\n",
        "        # 모든 파일 압축하기\n",
        "        for file in tqdm(files, desc='Compressing files'):\n",
        "            file_path = os.path.join(input_directory, file)\n",
        "            zipf.write(file_path, arcname=file)\n",
        "\n",
        "    print(f'{num_files} files compressed successfully into {output_zipfile}')\n",
        "\n",
        "# Example usage\n",
        "input_directory = '/content/yolov5/data/images'\n",
        "output_zipfile = '/content/drive/MyDrive/P_images.zip'\n",
        "compress_files(input_directory, output_zipfile)"
      ],
      "metadata": {
        "colab": {
          "base_uri": "https://localhost:8080/"
        },
        "id": "7-av0GwRMObB",
        "outputId": "945e8340-4242-4449-dbff-7bee0018ca14"
      },
      "execution_count": null,
      "outputs": [
        {
          "output_type": "stream",
          "name": "stderr",
          "text": [
            "Compressing files: 100%|██████████| 26684/26684 [10:02<00:00, 44.27it/s]\n"
          ]
        },
        {
          "output_type": "stream",
          "name": "stdout",
          "text": [
            "26684 files compressed successfully into /content/drive/MyDrive/P_images.zip\n"
          ]
        }
      ]
    },
    {
      "cell_type": "code",
      "source": [
        "# train, valid\n",
        "images_paths = glob.glob('/content/yolov5/data/images/*.png')\n",
        "\n",
        "train_path, valid_path = train_test_split(images_paths,\n",
        "                                          test_size=0.1,\n",
        "                                          random_state=777,\n",
        "                                          shuffle=True)\n",
        "\n",
        "with open('/content/train.txt', 'w') as f:\n",
        "  f.write('\\n'.join(train_path) + '\\n')\n",
        "\n",
        "with open('/content/valid.txt', 'w') as f:\n",
        "  f.write('\\n'.join(valid_path) + '\\n')"
      ],
      "metadata": {
        "id": "wWvZH0yZJBZ7"
      },
      "execution_count": 13,
      "outputs": []
    },
    {
      "cell_type": "code",
      "source": [
        "# train.txt, val.txt 파일 경로\n",
        "train_file = '/content/train.txt'\n",
        "val_file = '/content/valid.txt'\n",
        "\n",
        "# 클래스 이름 리스트\n",
        "classes = ['pneumonia']\n",
        "\n",
        "# data.yaml 파일 경로\n",
        "data_file = '/content/data.yaml'\n",
        "\n",
        "# data.yaml 파일 생성\n",
        "data = dict(\n",
        "    train=train_file,\n",
        "    val=val_file,\n",
        "    nc=len(classes),\n",
        "    names=classes\n",
        ")\n",
        "\n",
        "# 한글 문자열 지원을 위한 설정\n",
        "yaml.add_representer(str, lambda dumper, data: dumper.represent_scalar('tag:yaml.org,2002:str', data, style='\"'))\n",
        "\n",
        "with open(data_file, 'w', encoding='UTF-8') as f:\n",
        "    yaml.dump(data, f, allow_unicode=True)"
      ],
      "metadata": {
        "id": "tjDeTU-0HsBl"
      },
      "execution_count": 14,
      "outputs": []
    },
    {
      "cell_type": "code",
      "source": [
        "!python train.py --img 416 --batch 16 --epochs 5 --data /content/data.yaml --cfg /content/yolov5/models/yolov5m.yaml --weights yolov5m.pt --name /content/drive/MyDrive/Pneumonia_model1_5peochs"
      ],
      "metadata": {
        "id": "Z_mc0eZAFsIB"
      },
      "execution_count": null,
      "outputs": []
    },
    {
      "cell_type": "markdown",
      "source": [
        "# inference "
      ],
      "metadata": {
        "id": "LDhz81QSmxbB"
      }
    },
    {
      "cell_type": "code",
      "source": [
        "dcm_paths = glob.glob('/content/data/stage_2_test_images/*.dcm')\n",
        "destination_path = '/content/data/test_images'\n",
        "dcm_to_png(dcm_paths, destination_path)"
      ],
      "metadata": {
        "colab": {
          "base_uri": "https://localhost:8080/"
        },
        "id": "WInIF52Zmw8H",
        "outputId": "62146742-c4a3-4fc2-8d09-38e9e8bbff1e"
      },
      "execution_count": null,
      "outputs": [
        {
          "output_type": "stream",
          "name": "stderr",
          "text": [
            " 25%|██▍       | 736/3000 [00:37<01:22, 27.31it/s]"
          ]
        }
      ]
    },
    {
      "cell_type": "code",
      "source": [
        "model = torch.hub.load('ultralytics/yolov5', 'custom', '/content/drive/MyDrive/Pneumonia_model1_10peochs/weights/best.pt')\n",
        "test = pd.read_csv('/content/data/stage_2_sample_submission.csv')"
      ],
      "metadata": {
        "id": "K-yRCUirwRlG"
      },
      "execution_count": null,
      "outputs": []
    },
    {
      "cell_type": "code",
      "source": [
        "# model을 입력하면 \n",
        "\n",
        "def inference(df):\n",
        "  predicts = []\n",
        "\n",
        "  for k in tqdm(range(len(df))):\n",
        "    row = df.iloc[k, :]\n",
        "    image_name = row['patientId']\n",
        "    test_image_path = os.path.join('/content/data/test_images', image_name + '.png')\n",
        "    image = cv2.cvtColor(cv2.imread(test_image_path), cv2.COLOR_BGR2RGB)\n",
        "    \n",
        "    predict = model(image)\n",
        "    bboxes = ''\n",
        "    for pred in predict:\n",
        "      classes, confidence, x, y, w, h = pred\n",
        "      bbox = ' '.join(map(str, [confidence, x, y, w, h])) + ' '\n",
        "      bboxes += bbox\n",
        "    bboxes = bboxes.rstrip()\n",
        "\n",
        "    line = {'patientId':image_name,\n",
        "            'PredictionString':bboxes}\n",
        "    predicts.append(line)\n",
        "\n",
        "  df_pred = pd.DataFrame(columns=['patientId', 'PredictionString'], data=predicts)\n",
        "  return df_pred"
      ],
      "metadata": {
        "id": "e1g9GjvlxVOM"
      },
      "execution_count": null,
      "outputs": []
    },
    {
      "cell_type": "code",
      "source": [
        "test_image_path = '/content/data/stage_2_test_images'\n",
        "\n",
        "paths = []\n",
        "dws = []\n",
        "dhs = []\n",
        "for k in tqdm(range(len(test))):\n",
        "  row = test.iloc[k, :]\n",
        "  path = os.path.join(test_image_path, row['patientId'] + '.dcm')\n",
        "  paths.append(path)\n",
        "\n",
        "  image = pydicom.dcmread(path).pixel_array.astype(np.float32)\n",
        "  dw, dh = image.shape\n",
        "  dws.append(dw)\n",
        "  dhs.append(dh)\n",
        "\n",
        "test['path'] = path\n",
        "test['width'] = dws\n",
        "test['height'] = dhs"
      ],
      "metadata": {
        "id": "tXm8pLH2Aiad"
      },
      "execution_count": null,
      "outputs": []
    },
    {
      "cell_type": "code",
      "source": [
        "test['height'].unique()"
      ],
      "metadata": {
        "colab": {
          "base_uri": "https://localhost:8080/"
        },
        "id": "IL7FM4uePCY0",
        "outputId": "532154c2-0cdd-4f88-8040-fdb092053db4"
      },
      "execution_count": null,
      "outputs": [
        {
          "output_type": "execute_result",
          "data": {
            "text/plain": [
              "array([1024])"
            ]
          },
          "metadata": {},
          "execution_count": 58
        }
      ]
    },
    {
      "cell_type": "code",
      "source": [
        "!python detect.py --weights /content/drive/MyDrive/Pneumonia_model1_5peochs/weights/best.pt --img 416 --conf 0.25 --source /content/data/test_images --save-txt"
      ],
      "metadata": {
        "id": "jP3rOIDNBee_"
      },
      "execution_count": null,
      "outputs": []
    },
    {
      "cell_type": "code",
      "source": [
        "len(os.listdir('/content/yolov5/runs/detect/exp/labels'))"
      ],
      "metadata": {
        "colab": {
          "base_uri": "https://localhost:8080/"
        },
        "id": "QXhJgDXbL_mQ",
        "outputId": "c82746ce-e4fa-49ff-cb35-d23ee603c0d7"
      },
      "execution_count": null,
      "outputs": [
        {
          "output_type": "execute_result",
          "data": {
            "text/plain": [
              "880"
            ]
          },
          "metadata": {},
          "execution_count": 53
        }
      ]
    },
    {
      "cell_type": "code",
      "source": [
        "# detection.py로 생성된 txt를 csv로 변환합니다\n",
        "# txt의 기본 디렉토리는 /content/yolov5/runs/detect/exp/labels\n",
        "\n",
        "import os\n",
        "import csv\n",
        "\n",
        "def txt_to_csv(directory_path, output_csv_path):\n",
        "    with open(output_csv_path, 'w', newline='', encoding='utf-8') as csvfile:\n",
        "        csv_writer = csv.writer(csvfile)\n",
        "        csv_writer.writerow([\"patientId\", \"PredictionString\"])\n",
        "\n",
        "        for file_name in os.listdir(directory_path):\n",
        "            if file_name.endswith(\".txt\"):\n",
        "                file_path = os.path.join(directory_path, file_name)\n",
        "\n",
        "                with open(file_path, 'r', encoding='utf-8') as txtfile:\n",
        "                    content = txtfile.read()\n",
        "                    csv_writer.writerow([file_name, content])\n",
        "\n",
        "    print(f\"CSV file created at: {output_csv_path}\")\n",
        "\n",
        "# Example usage:\n",
        "txt_directory_path = \"/content/yolov5/yolov5/runs/detect/exp/labels\"\n",
        "output_csv_path = \"/content/output.csv\"\n",
        "txt_to_csv(txt_directory_path, output_csv_path)"
      ],
      "metadata": {
        "colab": {
          "base_uri": "https://localhost:8080/"
        },
        "id": "l6LI1MgXMBMK",
        "outputId": "0b131421-d26e-44c1-91d3-2fa3e1b29e83"
      },
      "execution_count": 51,
      "outputs": [
        {
          "output_type": "stream",
          "name": "stdout",
          "text": [
            "CSV file created at: /content/output.csv\n"
          ]
        }
      ]
    },
    {
      "cell_type": "code",
      "source": [
        "\n",
        "def ratio2int(string):\n",
        "  strings = string.split('\\n')\n",
        "  img_width = 1024\n",
        "  img_height = 1024\n",
        "\n",
        "  ls = ''\n",
        "  for point in strings:\n",
        "    if point == '':\n",
        "      continue\n",
        "\n",
        "    point = point.split()\n",
        "    point = [float(i) for i in point]\n",
        "\n",
        "    cls, x_center, y_center, width, height = point\n",
        "\n",
        "    # Convert relative coordinates to pixel-based coordinates\n",
        "    x_center_pixel = x_center * img_width\n",
        "    y_center_pixel = y_center * img_height\n",
        "    width_pixel = width * img_width\n",
        "    height_pixel = height * img_height\n",
        "\n",
        "    # Calculate the pixel-based bounding box coordinates\n",
        "    cls = int(cls)\n",
        "    x_min_pixel = int(round(x_center_pixel - (width_pixel / 2), 0))\n",
        "    y_min_pixel = int(round(y_center_pixel - (height_pixel / 2), 0))\n",
        "    width_pixel = int(round(width_pixel, 0))\n",
        "    height_pixel = int(round(height_pixel, 0))\n",
        "\n",
        "    ans = ' '.join(map(str, [cls, x_min_pixel, y_min_pixel, width_pixel, height_pixel])) + ' '\n",
        "    ls += ans\n",
        "  ls = ls.rstrip()\n",
        "  return ls"
      ],
      "metadata": {
        "id": "ctcZaVGoTHUg"
      },
      "execution_count": 52,
      "outputs": []
    },
    {
      "cell_type": "code",
      "source": [
        "output = pd.read_csv('/content/output.csv')\n",
        "output['patientId'] = output['patientId'].apply(lambda x: x.split('.')[0])\n",
        "output['PredictionString'] = output['PredictionString'].apply(ratio2int)\n",
        "output"
      ],
      "metadata": {
        "id": "8kjOW8ZkRmYU",
        "colab": {
          "base_uri": "https://localhost:8080/",
          "height": 424
        },
        "outputId": "77831dfa-d2ae-4980-bbd7-80ac3d5c32c0"
      },
      "execution_count": 54,
      "outputs": [
        {
          "output_type": "execute_result",
          "data": {
            "text/plain": [
              "                                patientId  \\\n",
              "0    02431455-505f-4ece-bac3-b4f494c65366   \n",
              "1    c1ef6724-f95f-40f1-b25b-de806d9bc39d   \n",
              "2    2017c617-7593-4996-9faf-3db972b7e7d9   \n",
              "3    2f6ca235-d1f3-4a84-9f4a-645f9b536672   \n",
              "4    1bdf99c5-f857-4f7f-bd32-3c75921b9799   \n",
              "..                                    ...   \n",
              "875  0114657d-6647-492a-9494-110ba43e4135   \n",
              "876  252386b6-2a6c-4e45-98a7-9af73a1f9b13   \n",
              "877  0f322913-eeda-4f18-b112-a9da608c5a3a   \n",
              "878  2d2633d2-b5a5-4f56-901e-6599355cebd4   \n",
              "879  295ff681-9e3a-4516-b5c7-ae88015fd4e5   \n",
              "\n",
              "                                      PredictionString  \n",
              "0                                    0 168 356 251 334  \n",
              "1                                    0 220 306 242 426  \n",
              "2                  0 155 241 258 672 0 630 382 261 550  \n",
              "3                  0 601 333 255 556 0 163 567 238 345  \n",
              "4                                    0 210 526 251 299  \n",
              "..                                                 ...  \n",
              "875                                  0 249 278 215 442  \n",
              "876  0 552 218 261 483 0 98 536 260 266 0 589 307 2...  \n",
              "877                                  0 632 294 228 477  \n",
              "878                                  0 524 391 215 289  \n",
              "879                                  0 130 296 240 418  \n",
              "\n",
              "[880 rows x 2 columns]"
            ],
            "text/html": [
              "\n",
              "  <div id=\"df-2354abe1-0a0e-4131-a871-c0b8d14a5fff\">\n",
              "    <div class=\"colab-df-container\">\n",
              "      <div>\n",
              "<style scoped>\n",
              "    .dataframe tbody tr th:only-of-type {\n",
              "        vertical-align: middle;\n",
              "    }\n",
              "\n",
              "    .dataframe tbody tr th {\n",
              "        vertical-align: top;\n",
              "    }\n",
              "\n",
              "    .dataframe thead th {\n",
              "        text-align: right;\n",
              "    }\n",
              "</style>\n",
              "<table border=\"1\" class=\"dataframe\">\n",
              "  <thead>\n",
              "    <tr style=\"text-align: right;\">\n",
              "      <th></th>\n",
              "      <th>patientId</th>\n",
              "      <th>PredictionString</th>\n",
              "    </tr>\n",
              "  </thead>\n",
              "  <tbody>\n",
              "    <tr>\n",
              "      <th>0</th>\n",
              "      <td>02431455-505f-4ece-bac3-b4f494c65366</td>\n",
              "      <td>0 168 356 251 334</td>\n",
              "    </tr>\n",
              "    <tr>\n",
              "      <th>1</th>\n",
              "      <td>c1ef6724-f95f-40f1-b25b-de806d9bc39d</td>\n",
              "      <td>0 220 306 242 426</td>\n",
              "    </tr>\n",
              "    <tr>\n",
              "      <th>2</th>\n",
              "      <td>2017c617-7593-4996-9faf-3db972b7e7d9</td>\n",
              "      <td>0 155 241 258 672 0 630 382 261 550</td>\n",
              "    </tr>\n",
              "    <tr>\n",
              "      <th>3</th>\n",
              "      <td>2f6ca235-d1f3-4a84-9f4a-645f9b536672</td>\n",
              "      <td>0 601 333 255 556 0 163 567 238 345</td>\n",
              "    </tr>\n",
              "    <tr>\n",
              "      <th>4</th>\n",
              "      <td>1bdf99c5-f857-4f7f-bd32-3c75921b9799</td>\n",
              "      <td>0 210 526 251 299</td>\n",
              "    </tr>\n",
              "    <tr>\n",
              "      <th>...</th>\n",
              "      <td>...</td>\n",
              "      <td>...</td>\n",
              "    </tr>\n",
              "    <tr>\n",
              "      <th>875</th>\n",
              "      <td>0114657d-6647-492a-9494-110ba43e4135</td>\n",
              "      <td>0 249 278 215 442</td>\n",
              "    </tr>\n",
              "    <tr>\n",
              "      <th>876</th>\n",
              "      <td>252386b6-2a6c-4e45-98a7-9af73a1f9b13</td>\n",
              "      <td>0 552 218 261 483 0 98 536 260 266 0 589 307 2...</td>\n",
              "    </tr>\n",
              "    <tr>\n",
              "      <th>877</th>\n",
              "      <td>0f322913-eeda-4f18-b112-a9da608c5a3a</td>\n",
              "      <td>0 632 294 228 477</td>\n",
              "    </tr>\n",
              "    <tr>\n",
              "      <th>878</th>\n",
              "      <td>2d2633d2-b5a5-4f56-901e-6599355cebd4</td>\n",
              "      <td>0 524 391 215 289</td>\n",
              "    </tr>\n",
              "    <tr>\n",
              "      <th>879</th>\n",
              "      <td>295ff681-9e3a-4516-b5c7-ae88015fd4e5</td>\n",
              "      <td>0 130 296 240 418</td>\n",
              "    </tr>\n",
              "  </tbody>\n",
              "</table>\n",
              "<p>880 rows × 2 columns</p>\n",
              "</div>\n",
              "      <button class=\"colab-df-convert\" onclick=\"convertToInteractive('df-2354abe1-0a0e-4131-a871-c0b8d14a5fff')\"\n",
              "              title=\"Convert this dataframe to an interactive table.\"\n",
              "              style=\"display:none;\">\n",
              "        \n",
              "  <svg xmlns=\"http://www.w3.org/2000/svg\" height=\"24px\"viewBox=\"0 0 24 24\"\n",
              "       width=\"24px\">\n",
              "    <path d=\"M0 0h24v24H0V0z\" fill=\"none\"/>\n",
              "    <path d=\"M18.56 5.44l.94 2.06.94-2.06 2.06-.94-2.06-.94-.94-2.06-.94 2.06-2.06.94zm-11 1L8.5 8.5l.94-2.06 2.06-.94-2.06-.94L8.5 2.5l-.94 2.06-2.06.94zm10 10l.94 2.06.94-2.06 2.06-.94-2.06-.94-.94-2.06-.94 2.06-2.06.94z\"/><path d=\"M17.41 7.96l-1.37-1.37c-.4-.4-.92-.59-1.43-.59-.52 0-1.04.2-1.43.59L10.3 9.45l-7.72 7.72c-.78.78-.78 2.05 0 2.83L4 21.41c.39.39.9.59 1.41.59.51 0 1.02-.2 1.41-.59l7.78-7.78 2.81-2.81c.8-.78.8-2.07 0-2.86zM5.41 20L4 18.59l7.72-7.72 1.47 1.35L5.41 20z\"/>\n",
              "  </svg>\n",
              "      </button>\n",
              "      \n",
              "  <style>\n",
              "    .colab-df-container {\n",
              "      display:flex;\n",
              "      flex-wrap:wrap;\n",
              "      gap: 12px;\n",
              "    }\n",
              "\n",
              "    .colab-df-convert {\n",
              "      background-color: #E8F0FE;\n",
              "      border: none;\n",
              "      border-radius: 50%;\n",
              "      cursor: pointer;\n",
              "      display: none;\n",
              "      fill: #1967D2;\n",
              "      height: 32px;\n",
              "      padding: 0 0 0 0;\n",
              "      width: 32px;\n",
              "    }\n",
              "\n",
              "    .colab-df-convert:hover {\n",
              "      background-color: #E2EBFA;\n",
              "      box-shadow: 0px 1px 2px rgba(60, 64, 67, 0.3), 0px 1px 3px 1px rgba(60, 64, 67, 0.15);\n",
              "      fill: #174EA6;\n",
              "    }\n",
              "\n",
              "    [theme=dark] .colab-df-convert {\n",
              "      background-color: #3B4455;\n",
              "      fill: #D2E3FC;\n",
              "    }\n",
              "\n",
              "    [theme=dark] .colab-df-convert:hover {\n",
              "      background-color: #434B5C;\n",
              "      box-shadow: 0px 1px 3px 1px rgba(0, 0, 0, 0.15);\n",
              "      filter: drop-shadow(0px 1px 2px rgba(0, 0, 0, 0.3));\n",
              "      fill: #FFFFFF;\n",
              "    }\n",
              "  </style>\n",
              "\n",
              "      <script>\n",
              "        const buttonEl =\n",
              "          document.querySelector('#df-2354abe1-0a0e-4131-a871-c0b8d14a5fff button.colab-df-convert');\n",
              "        buttonEl.style.display =\n",
              "          google.colab.kernel.accessAllowed ? 'block' : 'none';\n",
              "\n",
              "        async function convertToInteractive(key) {\n",
              "          const element = document.querySelector('#df-2354abe1-0a0e-4131-a871-c0b8d14a5fff');\n",
              "          const dataTable =\n",
              "            await google.colab.kernel.invokeFunction('convertToInteractive',\n",
              "                                                     [key], {});\n",
              "          if (!dataTable) return;\n",
              "\n",
              "          const docLinkHtml = 'Like what you see? Visit the ' +\n",
              "            '<a target=\"_blank\" href=https://colab.research.google.com/notebooks/data_table.ipynb>data table notebook</a>'\n",
              "            + ' to learn more about interactive tables.';\n",
              "          element.innerHTML = '';\n",
              "          dataTable['output_type'] = 'display_data';\n",
              "          await google.colab.output.renderOutput(dataTable, element);\n",
              "          const docLink = document.createElement('div');\n",
              "          docLink.innerHTML = docLinkHtml;\n",
              "          element.appendChild(docLink);\n",
              "        }\n",
              "      </script>\n",
              "    </div>\n",
              "  </div>\n",
              "  "
            ]
          },
          "metadata": {},
          "execution_count": 54
        }
      ]
    },
    {
      "cell_type": "code",
      "source": [
        "test = pd.read_csv('/content/data/stage_2_sample_submission.csv')\n",
        "test['PredictionString'] = test['PredictionString'].apply(lambda x: '')\n",
        "test"
      ],
      "metadata": {
        "colab": {
          "base_uri": "https://localhost:8080/",
          "height": 424
        },
        "id": "VbSJLQ7peAwk",
        "outputId": "7eb3eb10-e72e-4790-c338-575ceaf62a17"
      },
      "execution_count": 64,
      "outputs": [
        {
          "output_type": "execute_result",
          "data": {
            "text/plain": [
              "                                 patientId PredictionString\n",
              "0     0000a175-0e68-4ca4-b1af-167204a7e0bc                 \n",
              "1     0005d3cc-3c3f-40b9-93c3-46231c3eb813                 \n",
              "2     000686d7-f4fc-448d-97a0-44fa9c5d3aa6                 \n",
              "3     000e3a7d-c0ca-4349-bb26-5af2d8993c3d                 \n",
              "4     00100a24-854d-423d-a092-edcf6179e061                 \n",
              "...                                    ...              ...\n",
              "2995  c1e88810-9e4e-4f39-9306-8d314bfc1ff1                 \n",
              "2996  c1ec035b-377b-416c-a281-f868b7c9b6c3                 \n",
              "2997  c1ef5b66-0fd7-49d1-ae6b-5af84929414b                 \n",
              "2998  c1ef6724-f95f-40f1-b25b-de806d9bc39d                 \n",
              "2999  c1f55e7e-4065-4dc0-993e-a7c1704c6036                 \n",
              "\n",
              "[3000 rows x 2 columns]"
            ],
            "text/html": [
              "\n",
              "  <div id=\"df-4b34d8a3-d8a2-4364-b4a3-a86e43581186\">\n",
              "    <div class=\"colab-df-container\">\n",
              "      <div>\n",
              "<style scoped>\n",
              "    .dataframe tbody tr th:only-of-type {\n",
              "        vertical-align: middle;\n",
              "    }\n",
              "\n",
              "    .dataframe tbody tr th {\n",
              "        vertical-align: top;\n",
              "    }\n",
              "\n",
              "    .dataframe thead th {\n",
              "        text-align: right;\n",
              "    }\n",
              "</style>\n",
              "<table border=\"1\" class=\"dataframe\">\n",
              "  <thead>\n",
              "    <tr style=\"text-align: right;\">\n",
              "      <th></th>\n",
              "      <th>patientId</th>\n",
              "      <th>PredictionString</th>\n",
              "    </tr>\n",
              "  </thead>\n",
              "  <tbody>\n",
              "    <tr>\n",
              "      <th>0</th>\n",
              "      <td>0000a175-0e68-4ca4-b1af-167204a7e0bc</td>\n",
              "      <td></td>\n",
              "    </tr>\n",
              "    <tr>\n",
              "      <th>1</th>\n",
              "      <td>0005d3cc-3c3f-40b9-93c3-46231c3eb813</td>\n",
              "      <td></td>\n",
              "    </tr>\n",
              "    <tr>\n",
              "      <th>2</th>\n",
              "      <td>000686d7-f4fc-448d-97a0-44fa9c5d3aa6</td>\n",
              "      <td></td>\n",
              "    </tr>\n",
              "    <tr>\n",
              "      <th>3</th>\n",
              "      <td>000e3a7d-c0ca-4349-bb26-5af2d8993c3d</td>\n",
              "      <td></td>\n",
              "    </tr>\n",
              "    <tr>\n",
              "      <th>4</th>\n",
              "      <td>00100a24-854d-423d-a092-edcf6179e061</td>\n",
              "      <td></td>\n",
              "    </tr>\n",
              "    <tr>\n",
              "      <th>...</th>\n",
              "      <td>...</td>\n",
              "      <td>...</td>\n",
              "    </tr>\n",
              "    <tr>\n",
              "      <th>2995</th>\n",
              "      <td>c1e88810-9e4e-4f39-9306-8d314bfc1ff1</td>\n",
              "      <td></td>\n",
              "    </tr>\n",
              "    <tr>\n",
              "      <th>2996</th>\n",
              "      <td>c1ec035b-377b-416c-a281-f868b7c9b6c3</td>\n",
              "      <td></td>\n",
              "    </tr>\n",
              "    <tr>\n",
              "      <th>2997</th>\n",
              "      <td>c1ef5b66-0fd7-49d1-ae6b-5af84929414b</td>\n",
              "      <td></td>\n",
              "    </tr>\n",
              "    <tr>\n",
              "      <th>2998</th>\n",
              "      <td>c1ef6724-f95f-40f1-b25b-de806d9bc39d</td>\n",
              "      <td></td>\n",
              "    </tr>\n",
              "    <tr>\n",
              "      <th>2999</th>\n",
              "      <td>c1f55e7e-4065-4dc0-993e-a7c1704c6036</td>\n",
              "      <td></td>\n",
              "    </tr>\n",
              "  </tbody>\n",
              "</table>\n",
              "<p>3000 rows × 2 columns</p>\n",
              "</div>\n",
              "      <button class=\"colab-df-convert\" onclick=\"convertToInteractive('df-4b34d8a3-d8a2-4364-b4a3-a86e43581186')\"\n",
              "              title=\"Convert this dataframe to an interactive table.\"\n",
              "              style=\"display:none;\">\n",
              "        \n",
              "  <svg xmlns=\"http://www.w3.org/2000/svg\" height=\"24px\"viewBox=\"0 0 24 24\"\n",
              "       width=\"24px\">\n",
              "    <path d=\"M0 0h24v24H0V0z\" fill=\"none\"/>\n",
              "    <path d=\"M18.56 5.44l.94 2.06.94-2.06 2.06-.94-2.06-.94-.94-2.06-.94 2.06-2.06.94zm-11 1L8.5 8.5l.94-2.06 2.06-.94-2.06-.94L8.5 2.5l-.94 2.06-2.06.94zm10 10l.94 2.06.94-2.06 2.06-.94-2.06-.94-.94-2.06-.94 2.06-2.06.94z\"/><path d=\"M17.41 7.96l-1.37-1.37c-.4-.4-.92-.59-1.43-.59-.52 0-1.04.2-1.43.59L10.3 9.45l-7.72 7.72c-.78.78-.78 2.05 0 2.83L4 21.41c.39.39.9.59 1.41.59.51 0 1.02-.2 1.41-.59l7.78-7.78 2.81-2.81c.8-.78.8-2.07 0-2.86zM5.41 20L4 18.59l7.72-7.72 1.47 1.35L5.41 20z\"/>\n",
              "  </svg>\n",
              "      </button>\n",
              "      \n",
              "  <style>\n",
              "    .colab-df-container {\n",
              "      display:flex;\n",
              "      flex-wrap:wrap;\n",
              "      gap: 12px;\n",
              "    }\n",
              "\n",
              "    .colab-df-convert {\n",
              "      background-color: #E8F0FE;\n",
              "      border: none;\n",
              "      border-radius: 50%;\n",
              "      cursor: pointer;\n",
              "      display: none;\n",
              "      fill: #1967D2;\n",
              "      height: 32px;\n",
              "      padding: 0 0 0 0;\n",
              "      width: 32px;\n",
              "    }\n",
              "\n",
              "    .colab-df-convert:hover {\n",
              "      background-color: #E2EBFA;\n",
              "      box-shadow: 0px 1px 2px rgba(60, 64, 67, 0.3), 0px 1px 3px 1px rgba(60, 64, 67, 0.15);\n",
              "      fill: #174EA6;\n",
              "    }\n",
              "\n",
              "    [theme=dark] .colab-df-convert {\n",
              "      background-color: #3B4455;\n",
              "      fill: #D2E3FC;\n",
              "    }\n",
              "\n",
              "    [theme=dark] .colab-df-convert:hover {\n",
              "      background-color: #434B5C;\n",
              "      box-shadow: 0px 1px 3px 1px rgba(0, 0, 0, 0.15);\n",
              "      filter: drop-shadow(0px 1px 2px rgba(0, 0, 0, 0.3));\n",
              "      fill: #FFFFFF;\n",
              "    }\n",
              "  </style>\n",
              "\n",
              "      <script>\n",
              "        const buttonEl =\n",
              "          document.querySelector('#df-4b34d8a3-d8a2-4364-b4a3-a86e43581186 button.colab-df-convert');\n",
              "        buttonEl.style.display =\n",
              "          google.colab.kernel.accessAllowed ? 'block' : 'none';\n",
              "\n",
              "        async function convertToInteractive(key) {\n",
              "          const element = document.querySelector('#df-4b34d8a3-d8a2-4364-b4a3-a86e43581186');\n",
              "          const dataTable =\n",
              "            await google.colab.kernel.invokeFunction('convertToInteractive',\n",
              "                                                     [key], {});\n",
              "          if (!dataTable) return;\n",
              "\n",
              "          const docLinkHtml = 'Like what you see? Visit the ' +\n",
              "            '<a target=\"_blank\" href=https://colab.research.google.com/notebooks/data_table.ipynb>data table notebook</a>'\n",
              "            + ' to learn more about interactive tables.';\n",
              "          element.innerHTML = '';\n",
              "          dataTable['output_type'] = 'display_data';\n",
              "          await google.colab.output.renderOutput(dataTable, element);\n",
              "          const docLink = document.createElement('div');\n",
              "          docLink.innerHTML = docLinkHtml;\n",
              "          element.appendChild(docLink);\n",
              "        }\n",
              "      </script>\n",
              "    </div>\n",
              "  </div>\n",
              "  "
            ]
          },
          "metadata": {},
          "execution_count": 64
        }
      ]
    },
    {
      "cell_type": "code",
      "source": [
        "def merge_to_answer(df1, df2):\n",
        "  merged_df = df1.merge(df2, on='patientId', how='left', suffixes=('', '_y'))\n",
        "  merged_df['PredictionString'] = merged_df.apply(\n",
        "    lambda row: row['PredictionString_y'] if pd.notna(row['PredictionString_y']) else row['PredictionString'],\n",
        "    axis=1)\n",
        "  merged_df.drop(columns=['PredictionString_y'], inplace=True)\n",
        "  return merged_df"
      ],
      "metadata": {
        "id": "dY23vZ0dfP9z"
      },
      "execution_count": 62,
      "outputs": []
    },
    {
      "cell_type": "code",
      "source": [
        "merge_to_answer(test, output).to_csv('/content/submission.csv', index=False)"
      ],
      "metadata": {
        "id": "bMzItsB4fkaN"
      },
      "execution_count": 78,
      "outputs": []
    }
  ]
}